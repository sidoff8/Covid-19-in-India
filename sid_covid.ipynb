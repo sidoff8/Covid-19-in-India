{
 "cells": [
  {
   "cell_type": "code",
   "execution_count": 184,
   "metadata": {},
   "outputs": [],
   "source": [
    "import pandas as pd\n",
    "import numpy as np"
   ]
  },
  {
   "cell_type": "code",
   "execution_count": 185,
   "metadata": {},
   "outputs": [],
   "source": [
    "df = pd.read_excel('India data_3_3_2020.xlsx')"
   ]
  },
  {
   "cell_type": "code",
   "execution_count": 186,
   "metadata": {},
   "outputs": [],
   "source": [
    "df.to_csv(\"sid_covid.csv\")"
   ]
  },
  {
   "cell_type": "code",
   "execution_count": 187,
   "metadata": {},
   "outputs": [],
   "source": [
    "df = pd.read_csv(\"sid_covid.csv\")"
   ]
  },
  {
   "cell_type": "code",
   "execution_count": 188,
   "metadata": {},
   "outputs": [
    {
     "name": "stdout",
     "output_type": "stream",
     "text": [
      "<class 'pandas.core.frame.DataFrame'>\n",
      "RangeIndex: 3110 entries, 0 to 3109\n",
      "Data columns (total 21 columns):\n",
      "Unnamed: 0                                   3110 non-null int64\n",
      "sno                                          3109 non-null float64\n",
      "Patient Number                               3108 non-null float64\n",
      "State Patient Number                         726 non-null object\n",
      "Date Announced                               3108 non-null object\n",
      "Age Bracket                                  780 non-null object\n",
      "Gender                                       933 non-null object\n",
      "Detected City                                821 non-null object\n",
      "Detected District                            2177 non-null object\n",
      "Detected State                               3108 non-null object\n",
      "State_code                                   3108 non-null object\n",
      "Current Status                               3108 non-null object\n",
      "Notes                                        2425 non-null object\n",
      "Contracted from which Patient (Suspected)    822 non-null object\n",
      "Nationality                                  425 non-null object\n",
      "Type of transmission                         1764 non-null object\n",
      "Status Change Date                           3105 non-null object\n",
      "Source_1                                     3065 non-null object\n",
      "Source_2                                     1056 non-null object\n",
      "Source_3                                     162 non-null object\n",
      "Backup Notes                                 361 non-null object\n",
      "dtypes: float64(2), int64(1), object(18)\n",
      "memory usage: 510.4+ KB\n"
     ]
    }
   ],
   "source": [
    "df.info()"
   ]
  },
  {
   "cell_type": "code",
   "execution_count": 189,
   "metadata": {},
   "outputs": [
    {
     "data": {
      "text/html": [
       "<div>\n",
       "<style scoped>\n",
       "    .dataframe tbody tr th:only-of-type {\n",
       "        vertical-align: middle;\n",
       "    }\n",
       "\n",
       "    .dataframe tbody tr th {\n",
       "        vertical-align: top;\n",
       "    }\n",
       "\n",
       "    .dataframe thead th {\n",
       "        text-align: right;\n",
       "    }\n",
       "</style>\n",
       "<table border=\"1\" class=\"dataframe\">\n",
       "  <thead>\n",
       "    <tr style=\"text-align: right;\">\n",
       "      <th></th>\n",
       "      <th>Unnamed: 0</th>\n",
       "      <th>sno</th>\n",
       "      <th>Patient Number</th>\n",
       "      <th>State Patient Number</th>\n",
       "      <th>Date Announced</th>\n",
       "      <th>Age Bracket</th>\n",
       "      <th>Gender</th>\n",
       "      <th>Detected City</th>\n",
       "      <th>Detected District</th>\n",
       "      <th>Detected State</th>\n",
       "      <th>...</th>\n",
       "      <th>Current Status</th>\n",
       "      <th>Notes</th>\n",
       "      <th>Contracted from which Patient (Suspected)</th>\n",
       "      <th>Nationality</th>\n",
       "      <th>Type of transmission</th>\n",
       "      <th>Status Change Date</th>\n",
       "      <th>Source_1</th>\n",
       "      <th>Source_2</th>\n",
       "      <th>Source_3</th>\n",
       "      <th>Backup Notes</th>\n",
       "    </tr>\n",
       "  </thead>\n",
       "  <tbody>\n",
       "    <tr>\n",
       "      <th>0</th>\n",
       "      <td>0</td>\n",
       "      <td>NaN</td>\n",
       "      <td>NaN</td>\n",
       "      <td>NaN</td>\n",
       "      <td>NaN</td>\n",
       "      <td>NaN</td>\n",
       "      <td>NaN</td>\n",
       "      <td>NaN</td>\n",
       "      <td>NaN</td>\n",
       "      <td>NaN</td>\n",
       "      <td>...</td>\n",
       "      <td>NaN</td>\n",
       "      <td>NaN</td>\n",
       "      <td>NaN</td>\n",
       "      <td>NaN</td>\n",
       "      <td>NaN</td>\n",
       "      <td>NaN</td>\n",
       "      <td>NaN</td>\n",
       "      <td>NaN</td>\n",
       "      <td>NaN</td>\n",
       "      <td>NaN</td>\n",
       "    </tr>\n",
       "    <tr>\n",
       "      <th>1</th>\n",
       "      <td>1</td>\n",
       "      <td>2.0</td>\n",
       "      <td>1.0</td>\n",
       "      <td>KL-TS-P1</td>\n",
       "      <td>30/01/2020</td>\n",
       "      <td>20</td>\n",
       "      <td>F</td>\n",
       "      <td>Thrissur</td>\n",
       "      <td>Thrissur</td>\n",
       "      <td>Kerala</td>\n",
       "      <td>...</td>\n",
       "      <td>Recovered</td>\n",
       "      <td>Travelled from Wuhan</td>\n",
       "      <td>NaN</td>\n",
       "      <td>India</td>\n",
       "      <td>Imported</td>\n",
       "      <td>14/02/2020</td>\n",
       "      <td>https://twitter.com/vijayanpinarayi/status/122...</td>\n",
       "      <td>https://weather.com/en-IN/india/news/news/2020...</td>\n",
       "      <td>NaN</td>\n",
       "      <td>Student from Wuhan</td>\n",
       "    </tr>\n",
       "    <tr>\n",
       "      <th>2</th>\n",
       "      <td>2</td>\n",
       "      <td>3.0</td>\n",
       "      <td>2.0</td>\n",
       "      <td>KL-AL-P1</td>\n",
       "      <td>2020-02-02 00:00:00</td>\n",
       "      <td>NaN</td>\n",
       "      <td>NaN</td>\n",
       "      <td>Alappuzha</td>\n",
       "      <td>Alappuzha</td>\n",
       "      <td>Kerala</td>\n",
       "      <td>...</td>\n",
       "      <td>Recovered</td>\n",
       "      <td>Travelled from Wuhan</td>\n",
       "      <td>NaN</td>\n",
       "      <td>India</td>\n",
       "      <td>Imported</td>\n",
       "      <td>14/02/2020</td>\n",
       "      <td>https://www.indiatoday.in/india/story/kerala-r...</td>\n",
       "      <td>https://weather.com/en-IN/india/news/news/2020...</td>\n",
       "      <td>NaN</td>\n",
       "      <td>Student from Wuhan</td>\n",
       "    </tr>\n",
       "    <tr>\n",
       "      <th>3</th>\n",
       "      <td>3</td>\n",
       "      <td>4.0</td>\n",
       "      <td>3.0</td>\n",
       "      <td>KL-KS-P1</td>\n",
       "      <td>2020-03-02 00:00:00</td>\n",
       "      <td>NaN</td>\n",
       "      <td>NaN</td>\n",
       "      <td>Kasaragod</td>\n",
       "      <td>Kasaragod</td>\n",
       "      <td>Kerala</td>\n",
       "      <td>...</td>\n",
       "      <td>Recovered</td>\n",
       "      <td>Travelled from Wuhan</td>\n",
       "      <td>NaN</td>\n",
       "      <td>India</td>\n",
       "      <td>Imported</td>\n",
       "      <td>14/02/2020</td>\n",
       "      <td>https://www.indiatoday.in/india/story/kerala-n...</td>\n",
       "      <td>https://twitter.com/ANI/status/122422148580539...</td>\n",
       "      <td>https://weather.com/en-IN/india/news/news/2020...</td>\n",
       "      <td>Student from Wuhan</td>\n",
       "    </tr>\n",
       "    <tr>\n",
       "      <th>4</th>\n",
       "      <td>4</td>\n",
       "      <td>5.0</td>\n",
       "      <td>4.0</td>\n",
       "      <td>DL-P1</td>\n",
       "      <td>2020-02-03 00:00:00</td>\n",
       "      <td>45</td>\n",
       "      <td>M</td>\n",
       "      <td>East Delhi (Mayur Vihar)</td>\n",
       "      <td>East Delhi</td>\n",
       "      <td>Delhi</td>\n",
       "      <td>...</td>\n",
       "      <td>Recovered</td>\n",
       "      <td>Travelled from Austria, Italy</td>\n",
       "      <td>NaN</td>\n",
       "      <td>India</td>\n",
       "      <td>Imported</td>\n",
       "      <td>15/03/2020</td>\n",
       "      <td>https://www.indiatoday.in/india/story/not-a-ja...</td>\n",
       "      <td>https://economictimes.indiatimes.com/news/poli...</td>\n",
       "      <td>NaN</td>\n",
       "      <td>Travel history to Italy and Austria</td>\n",
       "    </tr>\n",
       "  </tbody>\n",
       "</table>\n",
       "<p>5 rows × 21 columns</p>\n",
       "</div>"
      ],
      "text/plain": [
       "   Unnamed: 0  sno  Patient Number State Patient Number       Date Announced  \\\n",
       "0           0  NaN             NaN                  NaN                  NaN   \n",
       "1           1  2.0             1.0             KL-TS-P1           30/01/2020   \n",
       "2           2  3.0             2.0             KL-AL-P1  2020-02-02 00:00:00   \n",
       "3           3  4.0             3.0             KL-KS-P1  2020-03-02 00:00:00   \n",
       "4           4  5.0             4.0                DL-P1  2020-02-03 00:00:00   \n",
       "\n",
       "  Age Bracket Gender             Detected City Detected District  \\\n",
       "0         NaN    NaN                       NaN               NaN   \n",
       "1          20      F                  Thrissur          Thrissur   \n",
       "2         NaN    NaN                 Alappuzha         Alappuzha   \n",
       "3         NaN    NaN                 Kasaragod         Kasaragod   \n",
       "4          45      M  East Delhi (Mayur Vihar)        East Delhi   \n",
       "\n",
       "  Detected State  ... Current Status                          Notes  \\\n",
       "0            NaN  ...            NaN                            NaN   \n",
       "1         Kerala  ...      Recovered           Travelled from Wuhan   \n",
       "2         Kerala  ...      Recovered           Travelled from Wuhan   \n",
       "3         Kerala  ...      Recovered           Travelled from Wuhan   \n",
       "4          Delhi  ...      Recovered  Travelled from Austria, Italy   \n",
       "\n",
       "  Contracted from which Patient (Suspected) Nationality Type of transmission  \\\n",
       "0                                       NaN         NaN                  NaN   \n",
       "1                                       NaN       India             Imported   \n",
       "2                                       NaN       India             Imported   \n",
       "3                                       NaN       India             Imported   \n",
       "4                                       NaN       India             Imported   \n",
       "\n",
       "  Status Change Date                                           Source_1  \\\n",
       "0                NaN                                                NaN   \n",
       "1         14/02/2020  https://twitter.com/vijayanpinarayi/status/122...   \n",
       "2         14/02/2020  https://www.indiatoday.in/india/story/kerala-r...   \n",
       "3         14/02/2020  https://www.indiatoday.in/india/story/kerala-n...   \n",
       "4         15/03/2020  https://www.indiatoday.in/india/story/not-a-ja...   \n",
       "\n",
       "                                            Source_2  \\\n",
       "0                                                NaN   \n",
       "1  https://weather.com/en-IN/india/news/news/2020...   \n",
       "2  https://weather.com/en-IN/india/news/news/2020...   \n",
       "3  https://twitter.com/ANI/status/122422148580539...   \n",
       "4  https://economictimes.indiatimes.com/news/poli...   \n",
       "\n",
       "                                            Source_3  \\\n",
       "0                                                NaN   \n",
       "1                                                NaN   \n",
       "2                                                NaN   \n",
       "3  https://weather.com/en-IN/india/news/news/2020...   \n",
       "4                                                NaN   \n",
       "\n",
       "                          Backup Notes  \n",
       "0                                  NaN  \n",
       "1                   Student from Wuhan  \n",
       "2                   Student from Wuhan  \n",
       "3                   Student from Wuhan  \n",
       "4  Travel history to Italy and Austria  \n",
       "\n",
       "[5 rows x 21 columns]"
      ]
     },
     "execution_count": 189,
     "metadata": {},
     "output_type": "execute_result"
    }
   ],
   "source": [
    "df.head()"
   ]
  },
  {
   "cell_type": "code",
   "execution_count": 190,
   "metadata": {},
   "outputs": [],
   "source": [
    "df.drop([0], inplace = True) "
   ]
  },
  {
   "cell_type": "code",
   "execution_count": 191,
   "metadata": {},
   "outputs": [],
   "source": [
    "df.drop(\"Unnamed: 0\",axis=1,inplace=True)"
   ]
  },
  {
   "cell_type": "markdown",
   "metadata": {},
   "source": [
    "# total entries = 3109"
   ]
  },
  {
   "cell_type": "markdown",
   "metadata": {},
   "source": [
    "# PreProcessing 20 columns"
   ]
  },
  {
   "cell_type": "markdown",
   "metadata": {},
   "source": [
    "#1 sno "
   ]
  },
  {
   "cell_type": "code",
   "execution_count": 192,
   "metadata": {},
   "outputs": [
    {
     "data": {
      "text/plain": [
       "3109"
      ]
     },
     "execution_count": 192,
     "metadata": {},
     "output_type": "execute_result"
    }
   ],
   "source": [
    "len(df['sno'].unique()) # all are unique elements"
   ]
  },
  {
   "cell_type": "code",
   "execution_count": 193,
   "metadata": {},
   "outputs": [],
   "source": [
    "df.drop(\"sno\",axis=1,inplace=True)"
   ]
  },
  {
   "cell_type": "markdown",
   "metadata": {},
   "source": [
    "#2 Patient Number"
   ]
  },
  {
   "cell_type": "code",
   "execution_count": 194,
   "metadata": {},
   "outputs": [
    {
     "data": {
      "text/plain": [
       "3109"
      ]
     },
     "execution_count": 194,
     "metadata": {},
     "output_type": "execute_result"
    }
   ],
   "source": [
    "len(df['Patient Number'].unique())  #all are unique"
   ]
  },
  {
   "cell_type": "code",
   "execution_count": 195,
   "metadata": {},
   "outputs": [],
   "source": [
    "df.drop(\"Patient Number\",axis=1,inplace=True)"
   ]
  },
  {
   "cell_type": "markdown",
   "metadata": {},
   "source": [
    "#3 State Patient Number"
   ]
  },
  {
   "cell_type": "code",
   "execution_count": 196,
   "metadata": {},
   "outputs": [
    {
     "data": {
      "text/plain": [
       "722"
      ]
     },
     "execution_count": 196,
     "metadata": {},
     "output_type": "execute_result"
    }
   ],
   "source": [
    "len(df['State Patient Number'].unique())  # 700+ unique entries"
   ]
  },
  {
   "cell_type": "code",
   "execution_count": 197,
   "metadata": {},
   "outputs": [
    {
     "data": {
      "text/plain": [
       "2383"
      ]
     },
     "execution_count": 197,
     "metadata": {},
     "output_type": "execute_result"
    }
   ],
   "source": [
    "df['State Patient Number'].isna().sum()   #almomst 75% is missing data (suggest what to do about it)"
   ]
  },
  {
   "cell_type": "code",
   "execution_count": 198,
   "metadata": {},
   "outputs": [
    {
     "data": {
      "text/plain": [
       "1       KL-TS-P1\n",
       "2       KL-AL-P1\n",
       "3       KL-KS-P1\n",
       "4          DL-P1\n",
       "5          TS-P1\n",
       "          ...   \n",
       "3105         NaN\n",
       "3106         NaN\n",
       "3107         NaN\n",
       "3108         NaN\n",
       "3109         NaN\n",
       "Name: State Patient Number, Length: 3109, dtype: object"
      ]
     },
     "execution_count": 198,
     "metadata": {},
     "output_type": "execute_result"
    }
   ],
   "source": [
    "df['State Patient Number']"
   ]
  },
  {
   "cell_type": "markdown",
   "metadata": {},
   "source": [
    "#4 Date Announced"
   ]
  },
  {
   "cell_type": "code",
   "execution_count": 199,
   "metadata": {},
   "outputs": [
    {
     "data": {
      "text/plain": [
       "37"
      ]
     },
     "execution_count": 199,
     "metadata": {},
     "output_type": "execute_result"
    }
   ],
   "source": [
    "len(df['Date Announced'].unique())   # 37 days since first reporting"
   ]
  },
  {
   "cell_type": "code",
   "execution_count": 200,
   "metadata": {},
   "outputs": [
    {
     "data": {
      "text/plain": [
       "1"
      ]
     },
     "execution_count": 200,
     "metadata": {},
     "output_type": "execute_result"
    }
   ],
   "source": [
    "df['Date Announced'].isna().sum() # only one NAN entry (that can be corrected mannualy using eye-balling)"
   ]
  },
  {
   "cell_type": "code",
   "execution_count": 201,
   "metadata": {},
   "outputs": [
    {
     "data": {
      "text/plain": [
       "1                30/01/2020\n",
       "2       2020-02-02 00:00:00\n",
       "3       2020-03-02 00:00:00\n",
       "4       2020-02-03 00:00:00\n",
       "5       2020-02-03 00:00:00\n",
       "               ...         \n",
       "3105    2020-03-04 00:00:00\n",
       "3106    2020-03-04 00:00:00\n",
       "3107    2020-03-04 00:00:00\n",
       "3108    2020-03-04 00:00:00\n",
       "3109                    NaN\n",
       "Name: Date Announced, Length: 3109, dtype: object"
      ]
     },
     "execution_count": 201,
     "metadata": {},
     "output_type": "execute_result"
    }
   ],
   "source": [
    "df['Date Announced']"
   ]
  },
  {
   "cell_type": "code",
   "execution_count": 202,
   "metadata": {},
   "outputs": [],
   "source": [
    "df['Date Announced']=pd.to_datetime(df['Date Announced'])"
   ]
  },
  {
   "cell_type": "code",
   "execution_count": 203,
   "metadata": {},
   "outputs": [
    {
     "data": {
      "text/plain": [
       "1      2020-01-30\n",
       "2      2020-02-02\n",
       "3      2020-03-02\n",
       "4      2020-02-03\n",
       "5      2020-02-03\n",
       "          ...    \n",
       "3105   2020-03-04\n",
       "3106   2020-03-04\n",
       "3107   2020-03-04\n",
       "3108   2020-03-04\n",
       "3109          NaT\n",
       "Name: Date Announced, Length: 3109, dtype: datetime64[ns]"
      ]
     },
     "execution_count": 203,
     "metadata": {},
     "output_type": "execute_result"
    }
   ],
   "source": [
    "df['Date Announced']"
   ]
  },
  {
   "cell_type": "markdown",
   "metadata": {},
   "source": [
    "#5 Age Bracket"
   ]
  },
  {
   "cell_type": "code",
   "execution_count": 204,
   "metadata": {},
   "outputs": [
    {
     "data": {
      "text/plain": [
       "1        20\n",
       "2       NaN\n",
       "3       NaN\n",
       "4        45\n",
       "5        24\n",
       "       ... \n",
       "3105    NaN\n",
       "3106    NaN\n",
       "3107    NaN\n",
       "3108    NaN\n",
       "3109    NaN\n",
       "Name: Age Bracket, Length: 3109, dtype: object"
      ]
     },
     "execution_count": 204,
     "metadata": {},
     "output_type": "execute_result"
    }
   ],
   "source": [
    "df['Age Bracket']"
   ]
  },
  {
   "cell_type": "code",
   "execution_count": 205,
   "metadata": {},
   "outputs": [
    {
     "data": {
      "text/plain": [
       "2329"
      ]
     },
     "execution_count": 205,
     "metadata": {},
     "output_type": "execute_result"
    }
   ],
   "source": [
    "df['Age Bracket'].isna().sum()  #again almost 75% is NAN  -- suggest something"
   ]
  },
  {
   "cell_type": "code",
   "execution_count": 206,
   "metadata": {},
   "outputs": [
    {
     "data": {
      "text/plain": [
       "81"
      ]
     },
     "execution_count": 206,
     "metadata": {},
     "output_type": "execute_result"
    }
   ],
   "source": [
    "len(df['Age Bracket'].unique())  #81 diff age types"
   ]
  },
  {
   "cell_type": "markdown",
   "metadata": {},
   "source": [
    "#6 Gender"
   ]
  },
  {
   "cell_type": "code",
   "execution_count": 207,
   "metadata": {},
   "outputs": [
    {
     "data": {
      "text/plain": [
       "1         F\n",
       "2       NaN\n",
       "3       NaN\n",
       "4         M\n",
       "5         M\n",
       "       ... \n",
       "3105    NaN\n",
       "3106    NaN\n",
       "3107    NaN\n",
       "3108    NaN\n",
       "3109    NaN\n",
       "Name: Gender, Length: 3109, dtype: object"
      ]
     },
     "execution_count": 207,
     "metadata": {},
     "output_type": "execute_result"
    }
   ],
   "source": [
    "df['Gender']"
   ]
  },
  {
   "cell_type": "code",
   "execution_count": 208,
   "metadata": {},
   "outputs": [
    {
     "data": {
      "text/plain": [
       "2176"
      ]
     },
     "execution_count": 208,
     "metadata": {},
     "output_type": "execute_result"
    }
   ],
   "source": [
    "df['Gender'].isna().sum()  #again almost 75% is NAN  -- suggest something"
   ]
  },
  {
   "cell_type": "code",
   "execution_count": 209,
   "metadata": {},
   "outputs": [
    {
     "data": {
      "text/plain": [
       "array(['F', nan, 'M'], dtype=object)"
      ]
     },
     "execution_count": 209,
     "metadata": {},
     "output_type": "execute_result"
    }
   ],
   "source": [
    "df['Gender'].unique()"
   ]
  },
  {
   "cell_type": "markdown",
   "metadata": {},
   "source": [
    "#7 Detected City"
   ]
  },
  {
   "cell_type": "code",
   "execution_count": 210,
   "metadata": {},
   "outputs": [
    {
     "data": {
      "text/plain": [
       "1                       Thrissur\n",
       "2                      Alappuzha\n",
       "3                      Kasaragod\n",
       "4       East Delhi (Mayur Vihar)\n",
       "5                      Hyderabad\n",
       "                  ...           \n",
       "3105                         NaN\n",
       "3106                         NaN\n",
       "3107                         NaN\n",
       "3108                         NaN\n",
       "3109                         NaN\n",
       "Name: Detected City, Length: 3109, dtype: object"
      ]
     },
     "execution_count": 210,
     "metadata": {},
     "output_type": "execute_result"
    }
   ],
   "source": [
    "df['Detected City']"
   ]
  },
  {
   "cell_type": "code",
   "execution_count": 211,
   "metadata": {},
   "outputs": [
    {
     "data": {
      "text/plain": [
       "2288"
      ]
     },
     "execution_count": 211,
     "metadata": {},
     "output_type": "execute_result"
    }
   ],
   "source": [
    "df['Detected City'].isna().sum()   #75% NAN"
   ]
  },
  {
   "cell_type": "code",
   "execution_count": 212,
   "metadata": {},
   "outputs": [
    {
     "data": {
      "text/plain": [
       "230"
      ]
     },
     "execution_count": 212,
     "metadata": {},
     "output_type": "execute_result"
    }
   ],
   "source": [
    "len(df['Detected City'].unique())   #230 diff cities"
   ]
  },
  {
   "cell_type": "markdown",
   "metadata": {},
   "source": [
    "#8 Detected District"
   ]
  },
  {
   "cell_type": "code",
   "execution_count": 213,
   "metadata": {},
   "outputs": [
    {
     "data": {
      "text/plain": [
       "1                  Thrissur\n",
       "2                 Alappuzha\n",
       "3                 Kasaragod\n",
       "4                East Delhi\n",
       "5                 Hyderabad\n",
       "               ...         \n",
       "3105                    NaN\n",
       "3106                 Kamrup\n",
       "3107    Kamrup Metropolitan\n",
       "3108               Morigaon\n",
       "3109                    NaN\n",
       "Name: Detected District, Length: 3109, dtype: object"
      ]
     },
     "execution_count": 213,
     "metadata": {},
     "output_type": "execute_result"
    }
   ],
   "source": [
    "df['Detected District']"
   ]
  },
  {
   "cell_type": "code",
   "execution_count": 214,
   "metadata": {},
   "outputs": [
    {
     "data": {
      "text/plain": [
       "932"
      ]
     },
     "execution_count": 214,
     "metadata": {},
     "output_type": "execute_result"
    }
   ],
   "source": [
    "df['Detected District'].isna().sum()   #33% NAN"
   ]
  },
  {
   "cell_type": "code",
   "execution_count": 215,
   "metadata": {},
   "outputs": [
    {
     "data": {
      "text/plain": [
       "224"
      ]
     },
     "execution_count": 215,
     "metadata": {},
     "output_type": "execute_result"
    }
   ],
   "source": [
    "len(df['Detected District'].unique()) "
   ]
  },
  {
   "cell_type": "markdown",
   "metadata": {},
   "source": [
    "#9 Detected State"
   ]
  },
  {
   "cell_type": "code",
   "execution_count": 216,
   "metadata": {},
   "outputs": [
    {
     "data": {
      "text/plain": [
       "1"
      ]
     },
     "execution_count": 216,
     "metadata": {},
     "output_type": "execute_result"
    }
   ],
   "source": [
    "df['Detected State'].isna().sum() #only one NAN entry"
   ]
  },
  {
   "cell_type": "code",
   "execution_count": 217,
   "metadata": {},
   "outputs": [
    {
     "data": {
      "text/plain": [
       "31"
      ]
     },
     "execution_count": 217,
     "metadata": {},
     "output_type": "execute_result"
    }
   ],
   "source": [
    "len(df['Detected State'].unique())  #it is spread in 31 states so far"
   ]
  },
  {
   "cell_type": "markdown",
   "metadata": {},
   "source": [
    "#10 State_code"
   ]
  },
  {
   "cell_type": "code",
   "execution_count": 218,
   "metadata": {},
   "outputs": [
    {
     "data": {
      "text/plain": [
       "1        KL\n",
       "2        KL\n",
       "3        KL\n",
       "4        DL\n",
       "5        TG\n",
       "       ... \n",
       "3105     UP\n",
       "3106     AS\n",
       "3107     AS\n",
       "3108     AS\n",
       "3109    NaN\n",
       "Name: State_code, Length: 3109, dtype: object"
      ]
     },
     "execution_count": 218,
     "metadata": {},
     "output_type": "execute_result"
    }
   ],
   "source": [
    "df['State_code']"
   ]
  },
  {
   "cell_type": "code",
   "execution_count": 219,
   "metadata": {},
   "outputs": [
    {
     "data": {
      "text/plain": [
       "1"
      ]
     },
     "execution_count": 219,
     "metadata": {},
     "output_type": "execute_result"
    }
   ],
   "source": [
    "df['State_code'].isna().sum()  # only one NaN"
   ]
  },
  {
   "cell_type": "code",
   "execution_count": 220,
   "metadata": {},
   "outputs": [
    {
     "data": {
      "text/plain": [
       "31"
      ]
     },
     "execution_count": 220,
     "metadata": {},
     "output_type": "execute_result"
    }
   ],
   "source": [
    "len(df['State_code'].unique()) #it is of no use since same as state therefore droping it"
   ]
  },
  {
   "cell_type": "code",
   "execution_count": 221,
   "metadata": {},
   "outputs": [],
   "source": [
    "df.drop(\"State_code\",axis=1,inplace=True)"
   ]
  },
  {
   "cell_type": "markdown",
   "metadata": {},
   "source": [
    "#11 Current Status"
   ]
  },
  {
   "cell_type": "code",
   "execution_count": 222,
   "metadata": {},
   "outputs": [
    {
     "data": {
      "text/plain": [
       "array(['Recovered', 'Hospitalized', 'Deceased', 'Migrated', nan],\n",
       "      dtype=object)"
      ]
     },
     "execution_count": 222,
     "metadata": {},
     "output_type": "execute_result"
    }
   ],
   "source": [
    "df['Current Status'].unique()   #there are 4 classes in Current status "
   ]
  },
  {
   "cell_type": "code",
   "execution_count": 223,
   "metadata": {},
   "outputs": [
    {
     "data": {
      "text/plain": [
       "1"
      ]
     },
     "execution_count": 223,
     "metadata": {},
     "output_type": "execute_result"
    }
   ],
   "source": [
    "df['Current Status'].isna().sum() # wow only one is missing"
   ]
  },
  {
   "cell_type": "markdown",
   "metadata": {},
   "source": [
    "#12 Notes"
   ]
  },
  {
   "cell_type": "code",
   "execution_count": 224,
   "metadata": {},
   "outputs": [
    {
     "data": {
      "text/plain": [
       "1                                    Travelled from Wuhan\n",
       "2                                    Travelled from Wuhan\n",
       "3                                    Travelled from Wuhan\n",
       "4                           Travelled from Austria, Italy\n",
       "5       Travelled from Dubai to Bangalore on 20th Feb,...\n",
       "                              ...                        \n",
       "3105                                                  NaN\n",
       "3106                  Attended Delhi Religious Conference\n",
       "3107                  Attended Delhi Religious Conference\n",
       "3108                  Attended Delhi Religious Conference\n",
       "3109                                                  NaN\n",
       "Name: Notes, Length: 3109, dtype: object"
      ]
     },
     "execution_count": 224,
     "metadata": {},
     "output_type": "execute_result"
    }
   ],
   "source": [
    "df['Notes']"
   ]
  },
  {
   "cell_type": "code",
   "execution_count": 225,
   "metadata": {},
   "outputs": [
    {
     "data": {
      "text/plain": [
       "592"
      ]
     },
     "execution_count": 225,
     "metadata": {},
     "output_type": "execute_result"
    }
   ],
   "source": [
    "len(df['Notes'].unique())   #there are 592 diff unique values"
   ]
  },
  {
   "cell_type": "code",
   "execution_count": 226,
   "metadata": {},
   "outputs": [
    {
     "data": {
      "text/plain": [
       "684"
      ]
     },
     "execution_count": 226,
     "metadata": {},
     "output_type": "execute_result"
    }
   ],
   "source": [
    "df['Notes'].isna().sum()    #25% is NAN"
   ]
  },
  {
   "cell_type": "markdown",
   "metadata": {},
   "source": [
    "#13 Contracted from which Patient (Suspected)"
   ]
  },
  {
   "cell_type": "code",
   "execution_count": 227,
   "metadata": {},
   "outputs": [
    {
     "data": {
      "text/plain": [
       "1       NaN\n",
       "2       NaN\n",
       "3       NaN\n",
       "4       NaN\n",
       "5       NaN\n",
       "       ... \n",
       "3105    NaN\n",
       "3106     E0\n",
       "3107     E0\n",
       "3108     E0\n",
       "3109    NaN\n",
       "Name: Contracted from which Patient (Suspected), Length: 3109, dtype: object"
      ]
     },
     "execution_count": 227,
     "metadata": {},
     "output_type": "execute_result"
    }
   ],
   "source": [
    "df['Contracted from which Patient (Suspected)']"
   ]
  },
  {
   "cell_type": "code",
   "execution_count": 228,
   "metadata": {},
   "outputs": [
    {
     "data": {
      "text/plain": [
       "109"
      ]
     },
     "execution_count": 228,
     "metadata": {},
     "output_type": "execute_result"
    }
   ],
   "source": [
    "len(df['Contracted from which Patient (Suspected)'].unique())  #total 109 unique values"
   ]
  },
  {
   "cell_type": "code",
   "execution_count": 229,
   "metadata": {},
   "outputs": [
    {
     "data": {
      "text/plain": [
       "2287"
      ]
     },
     "execution_count": 229,
     "metadata": {},
     "output_type": "execute_result"
    }
   ],
   "source": [
    "df['Contracted from which Patient (Suspected)'].isna().sum() #75 % NAN"
   ]
  },
  {
   "cell_type": "markdown",
   "metadata": {},
   "source": [
    "#14 Nationality"
   ]
  },
  {
   "cell_type": "code",
   "execution_count": 230,
   "metadata": {},
   "outputs": [
    {
     "data": {
      "text/plain": [
       "array(['India', 'Italy', 'Canada', 'United Kingdom', 'Phillipines',\n",
       "       'Indonesia', nan, 'Thailand', 'United States of America', 'Indian',\n",
       "       'Myanmar'], dtype=object)"
      ]
     },
     "execution_count": 230,
     "metadata": {},
     "output_type": "execute_result"
    }
   ],
   "source": [
    "df['Nationality'].unique()"
   ]
  },
  {
   "cell_type": "code",
   "execution_count": 231,
   "metadata": {},
   "outputs": [
    {
     "data": {
      "text/plain": [
       "11"
      ]
     },
     "execution_count": 231,
     "metadata": {},
     "output_type": "execute_result"
    }
   ],
   "source": [
    "len(df['Nationality'].unique()) # total from 11 diff countries"
   ]
  },
  {
   "cell_type": "code",
   "execution_count": 232,
   "metadata": {},
   "outputs": [
    {
     "data": {
      "text/plain": [
       "2684"
      ]
     },
     "execution_count": 232,
     "metadata": {},
     "output_type": "execute_result"
    }
   ],
   "source": [
    "df['Nationality'].isna().sum()  #75% missing  -- can be treated as INDIANS"
   ]
  },
  {
   "cell_type": "markdown",
   "metadata": {},
   "source": [
    "#15 Type of transmission"
   ]
  },
  {
   "cell_type": "code",
   "execution_count": 233,
   "metadata": {},
   "outputs": [
    {
     "data": {
      "text/plain": [
       "1       Imported\n",
       "2       Imported\n",
       "3       Imported\n",
       "4       Imported\n",
       "5       Imported\n",
       "          ...   \n",
       "3105         NaN\n",
       "3106         NaN\n",
       "3107         NaN\n",
       "3108         NaN\n",
       "3109         NaN\n",
       "Name: Type of transmission, Length: 3109, dtype: object"
      ]
     },
     "execution_count": 233,
     "metadata": {},
     "output_type": "execute_result"
    }
   ],
   "source": [
    "df['Type of transmission']"
   ]
  },
  {
   "cell_type": "code",
   "execution_count": 234,
   "metadata": {},
   "outputs": [
    {
     "data": {
      "text/plain": [
       "array(['Imported', 'Local', 'TBD', nan], dtype=object)"
      ]
     },
     "execution_count": 234,
     "metadata": {},
     "output_type": "execute_result"
    }
   ],
   "source": [
    "df['Type of transmission'].unique() # only 3 diff categories"
   ]
  },
  {
   "cell_type": "code",
   "execution_count": 235,
   "metadata": {},
   "outputs": [
    {
     "data": {
      "text/plain": [
       "1345"
      ]
     },
     "execution_count": 235,
     "metadata": {},
     "output_type": "execute_result"
    }
   ],
   "source": [
    "df['Type of transmission'].isna().sum() #40% missing  can be treated as LOCAL"
   ]
  },
  {
   "cell_type": "markdown",
   "metadata": {},
   "source": [
    "#16 Status Change Date"
   ]
  },
  {
   "cell_type": "code",
   "execution_count": 236,
   "metadata": {},
   "outputs": [],
   "source": [
    "df['Status Change Date']=pd.to_datetime(df['Status Change Date'])"
   ]
  },
  {
   "cell_type": "code",
   "execution_count": 237,
   "metadata": {},
   "outputs": [
    {
     "data": {
      "text/plain": [
       "1      2020-02-14\n",
       "2      2020-02-14\n",
       "3      2020-02-14\n",
       "4      2020-03-15\n",
       "5      2020-02-03\n",
       "          ...    \n",
       "3105   2020-03-04\n",
       "3106   2020-03-04\n",
       "3107   2020-03-04\n",
       "3108   2020-03-04\n",
       "3109          NaT\n",
       "Name: Status Change Date, Length: 3109, dtype: datetime64[ns]"
      ]
     },
     "execution_count": 237,
     "metadata": {},
     "output_type": "execute_result"
    }
   ],
   "source": [
    "df['Status Change Date']"
   ]
  },
  {
   "cell_type": "code",
   "execution_count": 238,
   "metadata": {},
   "outputs": [
    {
     "data": {
      "text/plain": [
       "4"
      ]
     },
     "execution_count": 238,
     "metadata": {},
     "output_type": "execute_result"
    }
   ],
   "source": [
    "df['Status Change Date'].isna().sum()  # 4 missing dates of status"
   ]
  },
  {
   "cell_type": "code",
   "execution_count": 239,
   "metadata": {},
   "outputs": [],
   "source": [
    "#17 Source_1\n",
    "#18 Source_2\n",
    "#19 Source_3"
   ]
  },
  {
   "cell_type": "code",
   "execution_count": 240,
   "metadata": {},
   "outputs": [],
   "source": [
    "df['Source'] = df['Source_1'] +' ' +  df['Source_2'] + ' ' + df['Source_3']"
   ]
  },
  {
   "cell_type": "code",
   "execution_count": 241,
   "metadata": {},
   "outputs": [],
   "source": [
    "df.drop([\"Source_1\",\"Source_2\",\"Source_3\"],axis=1,inplace=True)"
   ]
  },
  {
   "cell_type": "code",
   "execution_count": 242,
   "metadata": {},
   "outputs": [
    {
     "data": {
      "text/plain": [
       "2949"
      ]
     },
     "execution_count": 242,
     "metadata": {},
     "output_type": "execute_result"
    }
   ],
   "source": [
    "df['Source'].isna().sum()  # almost no source available"
   ]
  },
  {
   "cell_type": "markdown",
   "metadata": {},
   "source": [
    "#20 backup notes"
   ]
  },
  {
   "cell_type": "code",
   "execution_count": 243,
   "metadata": {},
   "outputs": [
    {
     "data": {
      "text/plain": [
       "222"
      ]
     },
     "execution_count": 243,
     "metadata": {},
     "output_type": "execute_result"
    }
   ],
   "source": [
    "len(df['Backup Notes'].unique())  #222 unique entries ---- can be merged with NOTES"
   ]
  },
  {
   "cell_type": "code",
   "execution_count": 244,
   "metadata": {},
   "outputs": [
    {
     "data": {
      "text/plain": [
       "2748"
      ]
     },
     "execution_count": 244,
     "metadata": {},
     "output_type": "execute_result"
    }
   ],
   "source": [
    "df['Backup Notes'].isna().sum()   #80% NAN"
   ]
  },
  {
   "cell_type": "code",
   "execution_count": 245,
   "metadata": {},
   "outputs": [
    {
     "data": {
      "text/plain": [
       "684"
      ]
     },
     "execution_count": 245,
     "metadata": {},
     "output_type": "execute_result"
    }
   ],
   "source": [
    "df['Notes'].isna().sum()"
   ]
  },
  {
   "cell_type": "code",
   "execution_count": 246,
   "metadata": {},
   "outputs": [
    {
     "data": {
      "text/plain": [
       "1                                    Travelled from Wuhan\n",
       "2                                    Travelled from Wuhan\n",
       "3                                    Travelled from Wuhan\n",
       "4                           Travelled from Austria, Italy\n",
       "5       Travelled from Dubai to Bangalore on 20th Feb,...\n",
       "                              ...                        \n",
       "3105                                                  NaN\n",
       "3106                  Attended Delhi Religious Conference\n",
       "3107                  Attended Delhi Religious Conference\n",
       "3108                  Attended Delhi Religious Conference\n",
       "3109                                                  NaN\n",
       "Name: Notes, Length: 3109, dtype: object"
      ]
     },
     "execution_count": 246,
     "metadata": {},
     "output_type": "execute_result"
    }
   ],
   "source": [
    "df['Notes']"
   ]
  },
  {
   "cell_type": "code",
   "execution_count": 247,
   "metadata": {},
   "outputs": [],
   "source": [
    "df['Notes']=df['Notes'].fillna(\" \")"
   ]
  },
  {
   "cell_type": "code",
   "execution_count": 248,
   "metadata": {},
   "outputs": [],
   "source": [
    "df['Backup Notes'] = df['Backup Notes'].fillna(\" \")"
   ]
  },
  {
   "cell_type": "code",
   "execution_count": 249,
   "metadata": {},
   "outputs": [],
   "source": [
    "df['Notes'] = df['Notes'] +' ' +  df['Backup Notes']"
   ]
  },
  {
   "cell_type": "code",
   "execution_count": 251,
   "metadata": {},
   "outputs": [],
   "source": [
    "df.drop(\"Backup Notes\",axis=1,inplace=True)"
   ]
  },
  {
   "cell_type": "code",
   "execution_count": 252,
   "metadata": {},
   "outputs": [
    {
     "name": "stdout",
     "output_type": "stream",
     "text": [
      "<class 'pandas.core.frame.DataFrame'>\n",
      "Int64Index: 3109 entries, 1 to 3109\n",
      "Data columns (total 14 columns):\n",
      "State Patient Number                         726 non-null object\n",
      "Date Announced                               3108 non-null datetime64[ns]\n",
      "Age Bracket                                  780 non-null object\n",
      "Gender                                       933 non-null object\n",
      "Detected City                                821 non-null object\n",
      "Detected District                            2177 non-null object\n",
      "Detected State                               3108 non-null object\n",
      "Current Status                               3108 non-null object\n",
      "Notes                                        3109 non-null object\n",
      "Contracted from which Patient (Suspected)    822 non-null object\n",
      "Nationality                                  425 non-null object\n",
      "Type of transmission                         1764 non-null object\n",
      "Status Change Date                           3105 non-null datetime64[ns]\n",
      "Source                                       160 non-null object\n",
      "dtypes: datetime64[ns](2), object(12)\n",
      "memory usage: 364.3+ KB\n"
     ]
    }
   ],
   "source": [
    "df.info()"
   ]
  },
  {
   "cell_type": "code",
   "execution_count": 253,
   "metadata": {},
   "outputs": [],
   "source": [
    "#only 14 columns remaining"
   ]
  },
  {
   "cell_type": "code",
   "execution_count": null,
   "metadata": {},
   "outputs": [],
   "source": []
  }
 ],
 "metadata": {
  "kernelspec": {
   "display_name": "Python 3",
   "language": "python",
   "name": "python3"
  },
  "language_info": {
   "codemirror_mode": {
    "name": "ipython",
    "version": 3
   },
   "file_extension": ".py",
   "mimetype": "text/x-python",
   "name": "python",
   "nbconvert_exporter": "python",
   "pygments_lexer": "ipython3",
   "version": "3.6.9"
  }
 },
 "nbformat": 4,
 "nbformat_minor": 4
}
